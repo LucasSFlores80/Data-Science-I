{
  "nbformat": 4,
  "nbformat_minor": 0,
  "metadata": {
    "colab": {
      "provenance": [],
      "authorship_tag": "ABX9TyMB/SUHFVNRAhsWoFwrHaXr",
      "include_colab_link": true
    },
    "kernelspec": {
      "name": "python3",
      "display_name": "Python 3"
    },
    "language_info": {
      "name": "python"
    }
  },
  "cells": [
    {
      "cell_type": "markdown",
      "metadata": {
        "id": "view-in-github",
        "colab_type": "text"
      },
      "source": [
        "<a href=\"https://colab.research.google.com/github/LucasSFlores80/Data-Science-I/blob/main/censo.ipynb\" target=\"_parent\"><img src=\"https://colab.research.google.com/assets/colab-badge.svg\" alt=\"Open In Colab\"/></a>"
      ]
    },
    {
      "cell_type": "markdown",
      "source": [
        "Utilice los datos resumen del Censo 2022 (Argentina) disponible en el siguiente repositorio o descargue cualquiera del sitio oficial, indec.\n",
        "Cargue el archivo (mirar el formato del archivo para determinar si es  .read_csv() o .read_excel()).\n",
        "Explorar las características del conjunto del dato, utilizando los atributos y métodos del DataFrame de pandas (ejemplo: shape, info).\n",
        "Utilizar el método .describe() para obtener un resumen de las variables.\n",
        "Obtenga la cantidad de nulos por medio del atributo .isna().\n",
        "Según el Censo 2022 ¿Cuál es  la población total del país?.\n",
        "Identifica la documentación asociada al dataset y en base a la exploración  ¿Qué insights puedes compartir?. Tener en cuenta ¿de qué trata el dataset?¿de qué tipo son los datos?¿hay datos nulos?¿son pocos los datos?\n",
        "\n"
      ],
      "metadata": {
        "id": "eg3vddYj5KR2"
      }
    },
    {
      "cell_type": "code",
      "source": [
        "import pandas as pd\n",
        "import numpy as np"
      ],
      "metadata": {
        "id": "ko4FC0EJ5Qt8"
      },
      "execution_count": null,
      "outputs": []
    },
    {
      "cell_type": "code",
      "source": [
        "url ='https://drive.google.com/file/d/1IlMr2b2s-FWvDmLSDSHyqkprIqcPFu7t/view?usp=drive_link'\n",
        "stocks_df = pd.read_txt(url)"
      ],
      "metadata": {
        "colab": {
          "base_uri": "https://localhost:8080/",
          "height": 159
        },
        "id": "816P6SZ25UzF",
        "outputId": "3e508eab-47e7-4448-ada1-f065593c7160"
      },
      "execution_count": null,
      "outputs": [
        {
          "output_type": "error",
          "ename": "AttributeError",
          "evalue": "module 'pandas' has no attribute 'read_txt'",
          "traceback": [
            "\u001b[0;31m---------------------------------------------------------------------------\u001b[0m",
            "\u001b[0;31mAttributeError\u001b[0m                            Traceback (most recent call last)",
            "\u001b[0;32m<ipython-input-7-4b38dc73ac3b>\u001b[0m in \u001b[0;36m<cell line: 2>\u001b[0;34m()\u001b[0m\n\u001b[1;32m      1\u001b[0m \u001b[0murl\u001b[0m \u001b[0;34m=\u001b[0m\u001b[0;34m'https://drive.google.com/file/d/1IlMr2b2s-FWvDmLSDSHyqkprIqcPFu7t/view?usp=drive_link'\u001b[0m\u001b[0;34m\u001b[0m\u001b[0;34m\u001b[0m\u001b[0m\n\u001b[0;32m----> 2\u001b[0;31m \u001b[0mstocks_df\u001b[0m \u001b[0;34m=\u001b[0m \u001b[0mpd\u001b[0m\u001b[0;34m.\u001b[0m\u001b[0mread_txt\u001b[0m\u001b[0;34m(\u001b[0m\u001b[0murl\u001b[0m\u001b[0;34m)\u001b[0m\u001b[0;34m\u001b[0m\u001b[0;34m\u001b[0m\u001b[0m\n\u001b[0m",
            "\u001b[0;31mAttributeError\u001b[0m: module 'pandas' has no attribute 'read_txt'"
          ]
        }
      ]
    }
  ]
}